{
 "cells": [
  {
   "cell_type": "code",
   "execution_count": 28,
   "metadata": {},
   "outputs": [],
   "source": [
    "import funciones as f\n",
    "\n",
    "\n",
    "import sys\n",
    "# import this\n",
    "\n",
    "if sys.version_info.major == 2:\n",
    "    print(\"You are running Python 2, which is no longer supported. Please update to Python 3.\")\n",
    "\n",
    "odrs = [99, 114, 121, 112, 116, 111, 123, 65, 83, 67, 73, 73, 95, 112, 114, 49, 110, 116, 52, 98, 108, 51, 125]\n"
   ]
  },
  {
   "cell_type": "code",
   "execution_count": 29,
   "metadata": {},
   "outputs": [
    {
     "data": {
      "text/plain": [
       "'crypto{ASCII_pr1nt4bl3}'"
      ]
     },
     "execution_count": 29,
     "metadata": {},
     "output_type": "execute_result"
    }
   ],
   "source": [
    "ascci = ''.join(chr(i) for i in odrs)\n",
    "ascci = ascci.replace(' ', '')\n",
    "ascci "
   ]
  },
  {
   "cell_type": "code",
   "execution_count": 30,
   "metadata": {},
   "outputs": [
    {
     "name": "stdout",
     "output_type": "stream",
     "text": [
      "crypto{You_will_be_working_with_hex_strings_a_lot}\n"
     ]
    }
   ],
   "source": [
    "hex = \"63727970746f7b596f755f77696c6c5f62655f776f726b696e675f776974685f6865785f737472696e67735f615f6c6f747d\"\n",
    "\n",
    "print(bytearray.fromhex(hex).decode())"
   ]
  },
  {
   "cell_type": "code",
   "execution_count": 31,
   "metadata": {},
   "outputs": [
    {
     "name": "stdout",
     "output_type": "stream",
     "text": [
      "Base64 encoded: crypto/Base+64+Encoding+is+Web+Safe/\n"
     ]
    }
   ],
   "source": [
    "import binascii\n",
    "import base64\n",
    "\n",
    "# Given hex string\n",
    "hex_string = \"72bca9b68fc16ac7beeb8f849dca1d8a783e8acf9679bf9269f7bf\"\n",
    "\n",
    "# Decode hex string into bytes\n",
    "hex_bytes = binascii.unhexlify(hex_string)\n",
    "\n",
    "# Encode bytes into Base64\n",
    "base64_encoded = base64.b64encode(hex_bytes).decode('utf-8')\n",
    "\n",
    "print(\"Base64 encoded:\", base64_encoded)\n"
   ]
  },
  {
   "cell_type": "code",
   "execution_count": 41,
   "metadata": {},
   "outputs": [
    {
     "name": "stdout",
     "output_type": "stream",
     "text": [
      "Reconstructed message from ASCII bytes: HELLO\n",
      "Reconstructed message from hexadecimal bytes: HELLO\n",
      "Reconstructed message from base-16 integer: HELLO\n",
      "Reconstructed message from base-10 integer: HELLO\n"
     ]
    }
   ],
   "source": [
    "def bytes_to_message(ascii_bytes=None, hex_bytes=None, base_16=None, base_10=None):\n",
    "    if ascii_bytes is not None:\n",
    "        # Convert ASCII bytes to characters\n",
    "        message = ''.join(chr(byte) for byte in ascii_bytes)\n",
    "        return message\n",
    "    \n",
    "    if hex_bytes is not None:\n",
    "        # Convert hexadecimal bytes to characters\n",
    "        int_bytes = [int(byte, 16) for byte in hex_bytes]\n",
    "        message = ''.join(chr(byte) for byte in int_bytes)\n",
    "        return message\n",
    "    \n",
    "    if base_16 is not None:\n",
    "        # Convert base-16 integer to characters\n",
    "        hex_string = format(base_16, 'x')  # Convert integer to hexadecimal string\n",
    "        ascii_bytes = [int(hex_string[i:i+2], 16) for i in range(0, len(hex_string), 2)]\n",
    "        message = ''.join(chr(byte) for byte in ascii_bytes)\n",
    "        return message\n",
    "    \n",
    "    if base_10 is not None:\n",
    "        # Convert base-10 integer to characters (treat it as base-16)\n",
    "        hex_string = format(base_10, 'x')  # Convert integer to hexadecimal string\n",
    "        ascii_bytes = [int(hex_string[i:i+2], 16) for i in range(0, len(hex_string), 2)]\n",
    "        message = ''.join(chr(byte) for byte in ascii_bytes)\n",
    "        return message\n",
    "\n",
    "# Input values to reconstruct the message \"HELLO\"\n",
    "ascii_bytes = [72, 69, 76, 76, 79]\n",
    "hex_bytes = ['48', '45', '4c', '4c', '4f']\n",
    "base_16 = 0x48454c4c4f\n",
    "base_10 = 310400273487\n",
    "\n",
    "# Retrieve the original message using the function\n",
    "reconstructed_message = bytes_to_message(ascii_bytes=ascii_bytes)\n",
    "print(\"Reconstructed message from ASCII bytes:\", reconstructed_message)\n",
    "\n",
    "reconstructed_message = bytes_to_message(hex_bytes=hex_bytes)\n",
    "print(\"Reconstructed message from hexadecimal bytes:\", reconstructed_message)\n",
    "\n",
    "reconstructed_message = bytes_to_message(base_16=base_16)\n",
    "print(\"Reconstructed message from base-16 integer:\", reconstructed_message)\n",
    "\n",
    "reconstructed_message = bytes_to_message(base_10=base_10)\n",
    "print(\"Reconstructed message from base-10 integer:\", reconstructed_message)\n"
   ]
  },
  {
   "cell_type": "code",
   "execution_count": 4,
   "metadata": {},
   "outputs": [],
   "source": []
  },
  {
   "cell_type": "code",
   "execution_count": 4,
   "metadata": {},
   "outputs": [
    {
     "name": "stdout",
     "output_type": "stream",
     "text": [
      "Encrypted String: b'aloha'\n"
     ]
    },
    {
     "name": "stderr",
     "output_type": "stream",
     "text": [
      "/home/cwolf/.local/lib/python3.11/site-packages/pwnlib/util/fiddling.py:327: BytesWarning: Text is not bytes; assuming ASCII, no guarantees. See https://docs.pwntools.com/#bytes\n",
      "  strs = [packing.flat(s, word_size = 8, sign = False, endianness = 'little') for s in args]\n"
     ]
    }
   ],
   "source": [
    "import pwn\n",
    "\n",
    "# Define the string and key\n",
    "label = \"label\"\n",
    "key = 13\n",
    "\n",
    "# Perform XOR encryption\n",
    "encrypted_string = pwn.xor(label, key)\n",
    "\n",
    "# Print the encrypted string\n",
    "print(\"Encrypted String:\", encrypted_string)\n"
   ]
  },
  {
   "cell_type": "code",
   "execution_count": 11,
   "metadata": {},
   "outputs": [
    {
     "data": {
      "text/plain": [
       "b'crypto{x0r_i5_ass0c1at1v3}'"
      ]
     },
     "execution_count": 11,
     "metadata": {},
     "output_type": "execute_result"
    }
   ],
   "source": [
    "# decode from hex to bytes\n",
    "hex_string_key1 = \"a6c8b6733c9b22de7bc0253266a3867df55acde8635e19c73313\"\n",
    "hex_bytes_key1 = bytes.fromhex(hex_string_key1)\n",
    "\n",
    "# decode from bytes to decimal\n",
    "decimal_key1 = int.from_bytes(hex_bytes_key1, byteorder='big')\n",
    "\n",
    "\n",
    "hex_string_key2 = \"37dcb292030faa90d07eec17e3b1c6d8daf94c35d4c9191a5e1e\"\n",
    "hex_bytes_key2 = bytes.fromhex(hex_string_key2)\n",
    "decimal_key2 = int.from_bytes(hex_bytes_key2, byteorder='big')\n",
    "\n",
    "\n",
    "key2 = pwn.xor(hex_bytes_key1, hex_bytes_key2)\n",
    "key2 \n",
    "\n",
    "\n",
    "hex_string_key3 = \"c1545756687e7573db23aa1c3452a098b71a7fbf0fddddde5fc1\"\n",
    "hex_bytes_key3 = bytes.fromhex(hex_string_key3)\n",
    "\n",
    "key3 = pwn.xor(key2, hex_bytes_key3)\n",
    "key3\n",
    "\n",
    "\n",
    "hex_string_flag = \"04ee9855208a2cd59091d04767ae47963170d1660df7f56f5faf\"\n",
    "hex_bytes_flag = bytes.fromhex(hex_string_flag)\n",
    "\n",
    "\n",
    "flag = pwn.xor(key3, hex_bytes_flag)\n",
    "flag = pwn.xor(key2 , flag)\n",
    "flag = pwn.xor(hex_bytes_key1, flag)\n",
    "flag"
   ]
  }
 ],
 "metadata": {
  "kernelspec": {
   "display_name": "Python 3",
   "language": "python",
   "name": "python3"
  },
  "language_info": {
   "codemirror_mode": {
    "name": "ipython",
    "version": 3
   },
   "file_extension": ".py",
   "mimetype": "text/x-python",
   "name": "python",
   "nbconvert_exporter": "python",
   "pygments_lexer": "ipython3",
   "version": "3.11.4"
  }
 },
 "nbformat": 4,
 "nbformat_minor": 2
}
