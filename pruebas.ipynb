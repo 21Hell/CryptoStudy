{
 "cells": [
  {
   "cell_type": "code",
   "execution_count": 5,
   "metadata": {},
   "outputs": [],
   "source": [
    "\n",
    "import sys\n",
    "# import this\n",
    "\n",
    "if sys.version_info.major == 2:\n",
    "    print(\"You are running Python 2, which is no longer supported. Please update to Python 3.\")\n",
    "\n",
    "odrs = [99, 114, 121, 112, 116, 111, 123, 65, 83, 67, 73, 73, 95, 112, 114, 49, 110, 116, 52, 98, 108, 51, 125]\n"
   ]
  },
  {
   "cell_type": "code",
   "execution_count": 6,
   "metadata": {},
   "outputs": [
    {
     "data": {
      "text/plain": [
       "'crypto{ASCII_pr1nt4bl3}'"
      ]
     },
     "execution_count": 6,
     "metadata": {},
     "output_type": "execute_result"
    }
   ],
   "source": [
    "ascci = ''.join(chr(i) for i in odrs)\n",
    "ascci = ascci.replace(' ', '')\n",
    "ascci "
   ]
  },
  {
   "cell_type": "code",
   "execution_count": 9,
   "metadata": {},
   "outputs": [
    {
     "name": "stdout",
     "output_type": "stream",
     "text": [
      "crypto{You_will_be_working_with_hex_strings_a_lot}\n"
     ]
    }
   ],
   "source": [
    "hex = \"63727970746f7b596f755f77696c6c5f62655f776f726b696e675f776974685f6865785f737472696e67735f615f6c6f747d\"\n",
    "\n",
    "print(bytearray.fromhex(hex).decode())"
   ]
  },
  {
   "cell_type": "code",
   "execution_count": 2,
   "metadata": {},
   "outputs": [
    {
     "name": "stdout",
     "output_type": "stream",
     "text": [
      "Base64 encoded: crypto/Base+64+Encoding+is+Web+Safe/\n"
     ]
    }
   ],
   "source": [
    "import binascii\n",
    "import base64\n",
    "\n",
    "# Given hex string\n",
    "hex_string = \"72bca9b68fc16ac7beeb8f849dca1d8a783e8acf9679bf9269f7bf\"\n",
    "\n",
    "# Decode hex string into bytes\n",
    "hex_bytes = binascii.unhexlify(hex_string)\n",
    "\n",
    "# Encode bytes into Base64\n",
    "base64_encoded = base64.b64encode(hex_bytes).decode('utf-8')\n",
    "\n",
    "print(\"Base64 encoded:\", base64_encoded)\n"
   ]
  },
  {
   "cell_type": "code",
   "execution_count": null,
   "metadata": {},
   "outputs": [],
   "source": [
    "from Crypto.Util.number import *\n",
    "\n"
   ]
  }
 ],
 "metadata": {
  "kernelspec": {
   "display_name": "Python 3",
   "language": "python",
   "name": "python3"
  },
  "language_info": {
   "codemirror_mode": {
    "name": "ipython",
    "version": 3
   },
   "file_extension": ".py",
   "mimetype": "text/x-python",
   "name": "python",
   "nbconvert_exporter": "python",
   "pygments_lexer": "ipython3",
   "version": "3.11.4"
  }
 },
 "nbformat": 4,
 "nbformat_minor": 2
}
