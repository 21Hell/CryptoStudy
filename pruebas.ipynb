{
 "cells": [
  {
   "cell_type": "code",
   "execution_count": 5,
   "metadata": {},
   "outputs": [],
   "source": [
    "\n",
    "import sys\n",
    "# import this\n",
    "\n",
    "if sys.version_info.major == 2:\n",
    "    print(\"You are running Python 2, which is no longer supported. Please update to Python 3.\")\n",
    "\n",
    "odrs = [99, 114, 121, 112, 116, 111, 123, 65, 83, 67, 73, 73, 95, 112, 114, 49, 110, 116, 52, 98, 108, 51, 125]\n"
   ]
  },
  {
   "cell_type": "code",
   "execution_count": 6,
   "metadata": {},
   "outputs": [
    {
     "data": {
      "text/plain": [
       "'crypto{ASCII_pr1nt4bl3}'"
      ]
     },
     "execution_count": 6,
     "metadata": {},
     "output_type": "execute_result"
    }
   ],
   "source": [
    "ascci = ''.join(chr(i) for i in odrs)\n",
    "ascci = ascci.replace(' ', '')\n",
    "ascci "
   ]
  },
  {
   "cell_type": "code",
   "execution_count": 9,
   "metadata": {},
   "outputs": [
    {
     "name": "stdout",
     "output_type": "stream",
     "text": [
      "crypto{You_will_be_working_with_hex_strings_a_lot}\n"
     ]
    }
   ],
   "source": [
    "hex = \"63727970746f7b596f755f77696c6c5f62655f776f726b696e675f776974685f6865785f737472696e67735f615f6c6f747d\"\n",
    "\n",
    "print(bytearray.fromhex(hex).decode())"
   ]
  },
  {
   "cell_type": "code",
   "execution_count": 2,
   "metadata": {},
   "outputs": [
    {
     "name": "stdout",
     "output_type": "stream",
     "text": [
      "Base64 encoded: crypto/Base+64+Encoding+is+Web+Safe/\n"
     ]
    }
   ],
   "source": [
    "import binascii\n",
    "import base64\n",
    "\n",
    "# Given hex string\n",
    "hex_string = \"72bca9b68fc16ac7beeb8f849dca1d8a783e8acf9679bf9269f7bf\"\n",
    "\n",
    "# Decode hex string into bytes\n",
    "hex_bytes = binascii.unhexlify(hex_string)\n",
    "\n",
    "# Encode bytes into Base64\n",
    "base64_encoded = base64.b64encode(hex_bytes).decode('utf-8')\n",
    "\n",
    "print(\"Base64 encoded:\", base64_encoded)\n"
   ]
  },
  {
   "cell_type": "code",
   "execution_count": 5,
   "metadata": {},
   "outputs": [
    {
     "name": "stdout",
     "output_type": "stream",
     "text": [
      "ASCII bytes: [72, 69, 76, 76, 79]\n",
      "Hex bytes: ['48', '45', '4c', '4c', '4f']\n",
      "Concatenated hexadecimal: 48454c4c4f\n",
      "Base-10 number: 310400273487\n"
     ]
    }
   ],
   "source": [
    "# Given message\n",
    "message = \"HELLO\"\n",
    "\n",
    "# Get the ASCII bytes of the message\n",
    "ascii_bytes = [ord(char) for char in message]\n",
    "\n",
    "# Convert ASCII bytes into hexadecimal\n",
    "hex_bytes = [hex(byte)[2:] for byte in ascii_bytes]\n",
    "\n",
    "# Concatenate hexadecimal values\n",
    "hex_concatenated = ''.join(hex_bytes)\n",
    "\n",
    "# Convert concatenated hexadecimal into base-10\n",
    "base_10_number = int(hex_concatenated, 16)\n",
    "\n",
    "print(\"ASCII bytes:\", ascii_bytes)\n",
    "print(\"Hex bytes:\", hex_bytes)\n",
    "print(\"Concatenated hexadecimal:\", hex_concatenated)\n",
    "print(\"Base-10 number:\", base_10_number)\n"
   ]
  },
  {
   "cell_type": "code",
   "execution_count": 6,
   "metadata": {},
   "outputs": [],
   "source": [
    "#Decode from base 10 to base 16ç\n",
    "base_16_number = hex(base_10_number)[2:]"
   ]
  },
  {
   "cell_type": "code",
   "execution_count": 7,
   "metadata": {},
   "outputs": [
    {
     "data": {
      "text/plain": [
       "'48454c4c4f'"
      ]
     },
     "execution_count": 7,
     "metadata": {},
     "output_type": "execute_result"
    }
   ],
   "source": [
    "base_16_number\n",
    "# from base 16 to hex bytes\n",
    "hex_bytes = [base_16_number[i:i+2] for i in range(0, len(base_16_number), 2)]\n"
   ]
  },
  {
   "cell_type": "code",
   "execution_count": 10,
   "metadata": {},
   "outputs": [],
   "source": [
    "hex_bytes\n",
    "# from hex bytes to ascii\n",
    "ascii_bytes = [int(byte, 16) for byte in hex_bytes]"
   ]
  },
  {
   "cell_type": "code",
   "execution_count": 13,
   "metadata": {},
   "outputs": [
    {
     "data": {
      "text/plain": [
       "'HELLO'"
      ]
     },
     "execution_count": 13,
     "metadata": {},
     "output_type": "execute_result"
    }
   ],
   "source": [
    "ascii_bytes\n",
    "# from ascii to message\n",
    "message = ''.join(chr(byte) for byte in ascii_bytes)"
   ]
  },
  {
   "cell_type": "code",
   "execution_count": 14,
   "metadata": {},
   "outputs": [
    {
     "data": {
      "text/plain": [
       "'HELLO'"
      ]
     },
     "execution_count": 14,
     "metadata": {},
     "output_type": "execute_result"
    }
   ],
   "source": [
    "message\n"
   ]
  }
 ],
 "metadata": {
  "kernelspec": {
   "display_name": "Python 3",
   "language": "python",
   "name": "python3"
  },
  "language_info": {
   "codemirror_mode": {
    "name": "ipython",
    "version": 3
   },
   "file_extension": ".py",
   "mimetype": "text/x-python",
   "name": "python",
   "nbconvert_exporter": "python",
   "pygments_lexer": "ipython3",
   "version": "3.11.4"
  }
 },
 "nbformat": 4,
 "nbformat_minor": 2
}
